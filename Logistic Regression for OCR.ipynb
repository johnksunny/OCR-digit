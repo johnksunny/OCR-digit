{
 "cells": [
  {
   "cell_type": "code",
   "execution_count": 1,
   "metadata": {},
   "outputs": [],
   "source": [
    "# We attempt to do a basic digit OCR task by implementing logistic regression"
   ]
  },
  {
   "cell_type": "code",
   "execution_count": 2,
   "metadata": {},
   "outputs": [],
   "source": [
    "import scipy.io as sio\n",
    "import numpy as np\n",
    "import matplotlib.pyplot as plt\n",
    "from sklearn.model_selection import train_test_split\n",
    "import time\n",
    "from IPython.display import clear_output"
   ]
  },
  {
   "cell_type": "code",
   "execution_count": 3,
   "metadata": {},
   "outputs": [],
   "source": [
    "data = sio.loadmat('ex3data1.mat')  #loading data from matlab file"
   ]
  },
  {
   "cell_type": "code",
   "execution_count": 4,
   "metadata": {},
   "outputs": [],
   "source": [
    "X = data['X']\n",
    "Y = data['y']"
   ]
  },
  {
   "cell_type": "code",
   "execution_count": 5,
   "metadata": {},
   "outputs": [
    {
     "data": {
      "text/plain": [
       "(5000, 400)"
      ]
     },
     "execution_count": 5,
     "metadata": {},
     "output_type": "execute_result"
    }
   ],
   "source": [
    "X.shape"
   ]
  },
  {
   "cell_type": "code",
   "execution_count": 6,
   "metadata": {},
   "outputs": [
    {
     "data": {
      "text/plain": [
       "(5000, 1)"
      ]
     },
     "execution_count": 6,
     "metadata": {},
     "output_type": "execute_result"
    }
   ],
   "source": [
    "Y.shape"
   ]
  },
  {
   "cell_type": "code",
   "execution_count": 7,
   "metadata": {},
   "outputs": [],
   "source": [
    "X, Xtest, Y, Ytest = train_test_split(X,Y, test_size = 0.2, shuffle = True)"
   ]
  },
  {
   "cell_type": "code",
   "execution_count": 8,
   "metadata": {},
   "outputs": [],
   "source": [
    "numimages = X.shape[0]\n",
    "numpixels = X.shape[1]\n",
    "numcharacters = 10"
   ]
  },
  {
   "cell_type": "code",
   "execution_count": 9,
   "metadata": {},
   "outputs": [],
   "source": [
    "#Recoding the y matrix\n",
    "Yrecoded = np.zeros((numimages, numcharacters))\n",
    "Y = Y%10              #turning the '10' labels for 0 to 0\n",
    "Ytest = Ytest%10\n",
    "\n",
    "for i in range(numimages):\n",
    "    Yrecoded[i][Y[i]] = 1"
   ]
  },
  {
   "cell_type": "code",
   "execution_count": 10,
   "metadata": {},
   "outputs": [],
   "source": [
    "%matplotlib inline \n",
    "from matplotlib import pyplot as plt"
   ]
  },
  {
   "cell_type": "code",
   "execution_count": 11,
   "metadata": {},
   "outputs": [
    {
     "data": {
      "image/png": "[encoded data removed]",
      "text/plain": [
       "<Figure size 432x288 with 1 Axes>"
      ]
     },
     "metadata": {
      "needs_background": "light"
     },
     "output_type": "display_data"
    }
   ],
   "source": [
    "plt.imshow(X[3000].reshape(20,20).T,cmap='gray', vmin=0, vmax=1)\n",
    "plt.show()"
   ]
  },
  {
   "cell_type": "code",
   "execution_count": 12,
   "metadata": {},
   "outputs": [
    {
     "data": {
      "text/plain": [
       "<Figure size 432x288 with 0 Axes>"
      ]
     },
     "metadata": {},
     "output_type": "display_data"
    },
    {
     "data": {
      "image/png": "[encoded data removed]",
      "text/plain": [
       "<Figure size 432x288 with 21 Axes>"
      ]
     },
     "metadata": {
      "needs_background": "light"
     },
     "output_type": "display_data"
    }
   ],
   "source": [
    "plt.figure()\n",
    "\n",
    "gridrows = 7;\n",
    "gridcolumns = 3;\n",
    "\n",
    "gridsize = gridrows * gridcolumns;\n",
    "\n",
    "#subplot(r,c) provide the no. of rows and columns\n",
    "f, axarr = plt.subplots(gridrows,gridcolumns) \n",
    "\n",
    "# use the created array to output your multiple images. In this case made a 10 x 10 grid of random images from data\n",
    "\n",
    "for i in range(gridrows):\n",
    "    for j in range(gridcolumns):\n",
    "        axarr[i][j].imshow(X[int(numimages / gridsize)  * (gridcolumns* i + j)].reshape(20,20).T,cmap='gray', vmin=0, vmax=1)"
   ]
  },
  {
   "cell_type": "code",
   "execution_count": 13,
   "metadata": {},
   "outputs": [],
   "source": [
    "def sigmoid(x):\n",
    "    return 1 / (1 + np.exp(-x))"
   ]
  },
  {
   "cell_type": "code",
   "execution_count": 14,
   "metadata": {},
   "outputs": [],
   "source": [
    "def gradientdescent(X,Y,alpha, lmbda, maxiter):   # with regularization\n",
    "    m = X.shape[0]\n",
    "    numpixels = X.shape[1]\n",
    "    numdigits = 10\n",
    "    \n",
    "    epsilon = 0.12\n",
    "    \n",
    "    Jiter = np.zeros(maxiter); \n",
    "    \n",
    "    W = np.random.uniform(-epsilon, epsilon, (numdigits, numpixels))   # W is 10 by 400, X is 5000 by 400\n",
    "    b = np.zeros((numdigits, 1))           # b is 10 by 1, 1 real value for each class\n",
    "    \n",
    "    tic = time.time()\n",
    "    for i in range (maxiter):        \n",
    "        Z = np.matmul(X, W.T) + b.T   # Z is 5000 by 10\n",
    "        A = sigmoid(Z) \n",
    "        dZ = A - Y # 5000 by 10\n",
    "        dW = 1 / m * np.matmul(dZ.T, X) # 10 by 400\n",
    "        db =  (1 / m * np.sum(dZ, axis = 0, keepdims = 1)).T\n",
    "        \n",
    "        Jiter[i] = 1/m * (-(Y * np.log(A) + (1 - Y) * np.log(1 - A)).sum(axis = (1,0)) + lmbda / 2 * (W**2).sum(axis = (1,0)))\n",
    "\n",
    "        W = W * (1 - alpha * lmbda / m) - alpha * (dW)\n",
    "        b -= alpha * db\n",
    "        \n",
    "        clear_output(wait=True)\n",
    "        print(f'Training Neural Network. Iteration number : {i + 1} / {maxiter}')\n",
    "        print(f'Cost in current iteration : {\"{:.3f}\".format(Jiter[i])}')\n",
    "        toc = time.time()\n",
    "        print(f'Total time taken for training Neural Network : {\"{:.1f}\".format(toc-tic)} s')\n",
    "        \n",
    "    return [W,b, Jiter]    "
   ]
  },
  {
   "cell_type": "code",
   "execution_count": 15,
   "metadata": {},
   "outputs": [
    {
     "name": "stdout",
     "output_type": "stream",
     "text": [
      "Training Neural Network. Iteration number : 1000 / 1000\n",
      "Cost in current iteration : 0.602\n",
      "Total time taken for training Neural Network : 17.0 s\n"
     ]
    }
   ],
   "source": [
    "Wopt , bopt, Jiter = gradientdescent(X,Yrecoded, alpha = 1, maxiter = 1000, lmbda = 1)"
   ]
  },
  {
   "cell_type": "code",
   "execution_count": 16,
   "metadata": {},
   "outputs": [
    {
     "name": "stdout",
     "output_type": "stream",
     "text": [
      "Final Cost = 0.6024574179015794\n"
     ]
    },
    {
     "data": {
      "image/png": "[encoded data removed]",
      "text/plain": [
       "<Figure size 432x288 with 1 Axes>"
      ]
     },
     "metadata": {
      "needs_background": "light"
     },
     "output_type": "display_data"
    }
   ],
   "source": [
    "#Plotting cost function as a function of number of iterations of gradient descent\n",
    "\n",
    "plt.xlabel('Iterations')\n",
    "plt.ylabel('Cost')\n",
    "plt.plot(range(1,Jiter.size), Jiter[0:-1], 'r')\n",
    "\n",
    "print(f'Final Cost = {Jiter[-1]}')"
   ]
  },
  {
   "cell_type": "code",
   "execution_count": 17,
   "metadata": {},
   "outputs": [],
   "source": [
    "Ypred = sigmoid(X@Wopt.T + bopt.T)"
   ]
  },
  {
   "cell_type": "code",
   "execution_count": 18,
   "metadata": {},
   "outputs": [],
   "source": [
    "Yencoded = np.argmax(Ypred, axis=1).reshape(X.shape[0],1)"
   ]
  },
  {
   "cell_type": "code",
   "execution_count": 19,
   "metadata": {},
   "outputs": [],
   "source": [
    "trainaccuracy = sum(Yencoded == Y)[0] / Y.shape[0] * 100"
   ]
  },
  {
   "cell_type": "code",
   "execution_count": 20,
   "metadata": {},
   "outputs": [
    {
     "name": "stdout",
     "output_type": "stream",
     "text": [
      "Training set accuracy = 93.89999999999999\n"
     ]
    }
   ],
   "source": [
    "print(f'Training set accuracy = {trainaccuracy}')"
   ]
  },
  {
   "cell_type": "code",
   "execution_count": 21,
   "metadata": {},
   "outputs": [],
   "source": [
    "import random\n",
    "from IPython.display import clear_output"
   ]
  },
  {
   "cell_type": "code",
   "execution_count": 22,
   "metadata": {},
   "outputs": [
    {
     "name": "stdout",
     "output_type": "stream",
     "text": [
      "Do you want to see another one?(Y/N)n\n"
     ]
    }
   ],
   "source": [
    "yn = 'Y'\n",
    "while str.lower(yn) == 'y':\n",
    "    imageid = random.randint(0,X.shape[0])\n",
    "    plt.imshow(X[imageid].reshape(20,20).T,cmap='gray', vmin=0, vmax=1)\n",
    "    plt.show()\n",
    "    print(f'The prediction for the above picture is {Yencoded[imageid][0]}')\n",
    "    print(f'The true label for the above picture is {Y[imageid][0]}')    \n",
    "    clear_output(wait=True)\n",
    "    yn = input('Do you want to see another one?(Y/N)')"
   ]
  },
  {
   "cell_type": "code",
   "execution_count": 23,
   "metadata": {},
   "outputs": [
    {
     "data": {
      "text/plain": [
       "<Figure size 432x288 with 0 Axes>"
      ]
     },
     "metadata": {},
     "output_type": "display_data"
    },
    {
     "data": {
      "image/png": "[encoded data removed]",
      "text/plain": [
       "<Figure size 540x216 with 10 Axes>"
      ]
     },
     "metadata": {
      "needs_background": "light"
     },
     "output_type": "display_data"
    }
   ],
   "source": [
    "#Plotting the learned parameter W\n",
    "\n",
    "plt.figure()\n",
    "\n",
    "gridrows = 2;\n",
    "gridcolumns = 5;\n",
    "\n",
    "gridsize = gridrows * gridcolumns;\n",
    "\n",
    "#subplot(r,c) provides the no. of rows and columns\n",
    "f, axarr = plt.subplots(gridrows,gridcolumns, sharex = True, sharey = True ,figsize = (gridcolumns*1.5, gridrows*1.5),  \n",
    "                        gridspec_kw={'wspace': 0,'hspace':0}) \n",
    "\n",
    "for i in range(gridrows):\n",
    "    for j in range(gridcolumns):\n",
    "        axarr[i][j].imshow(Wopt[gridcolumns* i + j].reshape(20,20).T,cmap='gray',  aspect = 'auto')"
   ]
  },
  {
   "cell_type": "code",
   "execution_count": 24,
   "metadata": {},
   "outputs": [
    {
     "data": {
      "text/plain": [
       "[<matplotlib.lines.Line2D at 0x1c0dfed06d0>]"
      ]
     },
     "execution_count": 24,
     "metadata": {},
     "output_type": "execute_result"
    },
    {
     "data": {
      "image/png": "[encoded data removed]",
      "text/plain": [
       "<Figure size 432x288 with 1 Axes>"
      ]
     },
     "metadata": {
      "needs_background": "light"
     },
     "output_type": "display_data"
    }
   ],
   "source": [
    "#Plotting cost function as a function of number of iterations of gradient descent\n",
    "\n",
    "plt.plot(Jiter[1:100], 'r')"
   ]
  },
  {
   "cell_type": "code",
   "execution_count": 25,
   "metadata": {},
   "outputs": [
    {
     "name": "stdout",
     "output_type": "stream",
     "text": [
      "Test set accuracy = 87.8\n"
     ]
    }
   ],
   "source": [
    "#Checking Test Set accuracy\n",
    "Ypredtest = sigmoid(Xtest@Wopt.T + bopt.T)\n",
    "Yencodedtest = np.argmax(Ypredtest, axis=1).reshape(Xtest.shape[0],1)\n",
    "testaccuracy = sum(Yencodedtest == Ytest)[0] / Ytest.shape[0] * 100\n",
    "print(f'Test set accuracy = {testaccuracy}')"
   ]
  },
  {
   "cell_type": "code",
   "execution_count": null,
   "metadata": {},
   "outputs": [
    {
     "data": {
      "image/png": "[encoded data removed]",
      "text/plain": [
       "<Figure size 432x288 with 1 Axes>"
      ]
     },
     "metadata": {
      "needs_background": "light"
     },
     "output_type": "display_data"
    },
    {
     "name": "stdout",
     "output_type": "stream",
     "text": [
      "The prediction for the above picture is 2\n",
      "The true label for the above picture is 2\n"
     ]
    }
   ],
   "source": [
    "yn = 'Y'\n",
    "while str.lower(yn) == 'y':\n",
    "    imageid = random.randint(0,Xtest.shape[0])\n",
    "    plt.imshow(Xtest[imageid].reshape(20,20).T,cmap='gray', vmin=0, vmax=1)\n",
    "    plt.show()\n",
    "    print(f'The prediction for the above picture is {Yencodedtest[imageid][0]}')\n",
    "    print(f'The true label for the above picture is {Ytest[imageid][0]}')    \n",
    "    clear_output(wait=True)\n",
    "    yn = input('Do you want to see another one?(Y/N)')"
   ]
  },
  {
   "cell_type": "code",
   "execution_count": null,
   "metadata": {},
   "outputs": [],
   "source": []
  }
 ],
 "metadata": {
  "kernelspec": {
   "display_name": "Python 3",
   "language": "python",
   "name": "python3"
  },
  "language_info": {
   "codemirror_mode": {
    "name": "ipython",
    "version": 3
   },
   "file_extension": ".py",
   "mimetype": "text/x-python",
   "name": "python",
   "nbconvert_exporter": "python",
   "pygments_lexer": "ipython3",
   "version": "3.8.5"
  }
 },
 "nbformat": 4,
 "nbformat_minor": 4
}
